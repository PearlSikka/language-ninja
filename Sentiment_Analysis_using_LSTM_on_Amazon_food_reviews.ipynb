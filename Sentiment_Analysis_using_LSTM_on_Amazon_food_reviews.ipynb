{
  "nbformat": 4,
  "nbformat_minor": 0,
  "metadata": {
    "colab": {
      "name": "Sentiment Analysis using LSTM on Amazon food reviews.ipynb",
      "provenance": [],
      "collapsed_sections": [],
      "authorship_tag": "ABX9TyOpzPuEWXLqEjdM680vYitl",
      "include_colab_link": true
    },
    "kernelspec": {
      "name": "python3",
      "display_name": "Python 3"
    },
    "accelerator": "GPU"
  },
  "cells": [
    {
      "cell_type": "markdown",
      "metadata": {
        "id": "view-in-github",
        "colab_type": "text"
      },
      "source": [
        "<a href=\"https://colab.research.google.com/github/PearlSikka/language-ninja/blob/master/Sentiment_Analysis_using_LSTM_on_Amazon_food_reviews.ipynb\" target=\"_parent\"><img src=\"https://colab.research.google.com/assets/colab-badge.svg\" alt=\"Open In Colab\"/></a>"
      ]
    },
    {
      "cell_type": "code",
      "metadata": {
        "id": "FlMt-EnUlmNN",
        "colab_type": "code",
        "colab": {}
      },
      "source": [
        "import os\n",
        "import pathlib\n",
        "\n",
        "# Upload the API token.\n",
        "def get_kaggle():\n",
        "  try:\n",
        "    import kaggle\n",
        "    return kaggle\n",
        "  except OSError:\n",
        "    pass\n",
        "\n",
        "  token_file = pathlib.Path(\"~/.kaggle/kaggle.json\").expanduser()\n",
        "  token_file.parent.mkdir(exist_ok=True, parents=True)\n",
        "\n",
        "  try:\n",
        "    from google.colab import files\n",
        "  except ImportError:\n",
        "    raise ValueError(\"Could not find kaggle token.\")\n",
        "\n",
        "  uploaded = files.upload()\n",
        "  token_content = uploaded.get('kaggle.json', None)\n",
        "  if token_content:\n",
        "    token_file.write_bytes(token_content)\n",
        "    token_file.chmod(0o600)\n",
        "  else:\n",
        "    raise ValueError('Need a file named \"kaggle.json\"')\n",
        "  \n",
        "  import kaggle\n",
        "  return kaggle\n",
        "\n",
        "\n",
        "kaggle = get_kaggle()"
      ],
      "execution_count": null,
      "outputs": []
    },
    {
      "cell_type": "code",
      "metadata": {
        "id": "oktHP2o2ldIn",
        "colab_type": "code",
        "colab": {}
      },
      "source": [
        "!kaggle datasets download -d snap/amazon-fine-food-reviews "
      ],
      "execution_count": null,
      "outputs": []
    },
    {
      "cell_type": "code",
      "metadata": {
        "id": "ilS35B9ZmAs9",
        "colab_type": "code",
        "colab": {}
      },
      "source": [
        "!unzip amazon-fine-food-reviews.zip -d train"
      ],
      "execution_count": null,
      "outputs": []
    },
    {
      "cell_type": "code",
      "metadata": {
        "id": "vi_DfK4mmIAq",
        "colab_type": "code",
        "colab": {}
      },
      "source": [
        "import pandas as pd\n",
        "import numpy as np\n",
        "import tensorflow as tf"
      ],
      "execution_count": null,
      "outputs": []
    },
    {
      "cell_type": "code",
      "metadata": {
        "id": "XVilFMPSmTA-",
        "colab_type": "code",
        "colab": {}
      },
      "source": [
        "data=pd.read_csv('/content/train/Reviews.csv')"
      ],
      "execution_count": null,
      "outputs": []
    },
    {
      "cell_type": "code",
      "metadata": {
        "id": "olllJSXhmYER",
        "colab_type": "code",
        "colab": {}
      },
      "source": [
        "data.head()"
      ],
      "execution_count": null,
      "outputs": []
    },
    {
      "cell_type": "code",
      "metadata": {
        "id": "ezKIWIUCucSM",
        "colab_type": "code",
        "colab": {}
      },
      "source": [
        "data.describe"
      ],
      "execution_count": null,
      "outputs": []
    },
    {
      "cell_type": "code",
      "metadata": {
        "id": "3yWyj1y3uhyN",
        "colab_type": "code",
        "colab": {}
      },
      "source": [
        "data=data[['Text','Score']]"
      ],
      "execution_count": null,
      "outputs": []
    },
    {
      "cell_type": "code",
      "metadata": {
        "id": "37K3Vcc-u0B1",
        "colab_type": "code",
        "colab": {}
      },
      "source": [
        "data.head()"
      ],
      "execution_count": null,
      "outputs": []
    },
    {
      "cell_type": "code",
      "metadata": {
        "id": "gSeMMlFKu1fi",
        "colab_type": "code",
        "colab": {}
      },
      "source": [
        "data=data[data.Score !=3]    "
      ],
      "execution_count": null,
      "outputs": []
    },
    {
      "cell_type": "markdown",
      "metadata": {
        "id": "fGGyRntmIbjg",
        "colab_type": "text"
      },
      "source": [
        "Removing neutral comments"
      ]
    },
    {
      "cell_type": "code",
      "metadata": {
        "id": "7pVa1CUVvRPr",
        "colab_type": "code",
        "colab": {}
      },
      "source": [
        "data.isnull().any()"
      ],
      "execution_count": null,
      "outputs": []
    },
    {
      "cell_type": "code",
      "metadata": {
        "id": "f3V6ld6Kva8I",
        "colab_type": "code",
        "colab": {}
      },
      "source": [
        "rename_dict={1:0,2:0,4:1,5:1}"
      ],
      "execution_count": null,
      "outputs": []
    },
    {
      "cell_type": "code",
      "metadata": {
        "id": "GJglAW9dzmkH",
        "colab_type": "code",
        "colab": {}
      },
      "source": [
        "rename_dict"
      ],
      "execution_count": null,
      "outputs": []
    },
    {
      "cell_type": "code",
      "metadata": {
        "id": "F5mfmbyz0BQ_",
        "colab_type": "code",
        "colab": {}
      },
      "source": [
        "data =data.replace({\"Score\": rename_dict})"
      ],
      "execution_count": null,
      "outputs": []
    },
    {
      "cell_type": "code",
      "metadata": {
        "id": "9lcR7ky5GDv-",
        "colab_type": "code",
        "colab": {}
      },
      "source": [
        "data.head()"
      ],
      "execution_count": null,
      "outputs": []
    },
    {
      "cell_type": "code",
      "metadata": {
        "id": "DEY1bjEDL26L",
        "colab_type": "code",
        "colab": {}
      },
      "source": [
        "#data['Text']=data['Text'].apply(lambda x: x.lower())\n",
        "#data.head()"
      ],
      "execution_count": null,
      "outputs": []
    },
    {
      "cell_type": "code",
      "metadata": {
        "id": "xh5fzyReMCda",
        "colab_type": "code",
        "colab": {}
      },
      "source": [
        "#data['Text'].head(20)"
      ],
      "execution_count": null,
      "outputs": []
    },
    {
      "cell_type": "code",
      "metadata": {
        "id": "iMUwKww7Mtg5",
        "colab_type": "code",
        "colab": {}
      },
      "source": [
        "import nltk\n",
        "nltk.download('stopwords')\n",
        "\n",
        "from nltk.corpus import stopwords\n",
        "\n",
        "from nltk.stem import PorterStemmer \n",
        "\n",
        "stemmer=PorterStemmer()"
      ],
      "execution_count": null,
      "outputs": []
    },
    {
      "cell_type": "code",
      "metadata": {
        "id": "zsb3AkRwOJ9D",
        "colab_type": "code",
        "colab": {}
      },
      "source": [
        "def clean_word(text):\n",
        "  split_sent= text.split()\n",
        "  cleaned_Word=\" \".join(stemmer.stem(i) for i in split_sent if \n",
        "                        i not in stopwords.words('english'))\n",
        "  return cleaned_Word"
      ],
      "execution_count": null,
      "outputs": []
    },
    {
      "cell_type": "code",
      "metadata": {
        "id": "420FGWTQRzzy",
        "colab_type": "code",
        "colab": {}
      },
      "source": [
        "#data['Text']=data['Text'].apply(lambda x: clean_word(x))"
      ],
      "execution_count": null,
      "outputs": []
    },
    {
      "cell_type": "code",
      "metadata": {
        "id": "7v-vyNW4zVtd",
        "colab_type": "code",
        "colab": {}
      },
      "source": [
        "data.shape"
      ],
      "execution_count": null,
      "outputs": []
    },
    {
      "cell_type": "code",
      "metadata": {
        "id": "npL8DcpGSFJ1",
        "colab_type": "code",
        "colab": {}
      },
      "source": [
        "#data.head()\n",
        "\n",
        "data1=data[data['Score']==0][:4000]"
      ],
      "execution_count": null,
      "outputs": []
    },
    {
      "cell_type": "code",
      "metadata": {
        "id": "JdKZjEjA0Z4r",
        "colab_type": "code",
        "colab": {}
      },
      "source": [
        "data1=data1.append(data[data['Score']==1][:4000])"
      ],
      "execution_count": null,
      "outputs": []
    },
    {
      "cell_type": "code",
      "metadata": {
        "id": "XP80f_3gyF9O",
        "colab_type": "code",
        "colab": {}
      },
      "source": [
        "data1.shape"
      ],
      "execution_count": null,
      "outputs": []
    },
    {
      "cell_type": "code",
      "metadata": {
        "id": "Za4j_AsUc-cq",
        "colab_type": "code",
        "colab": {}
      },
      "source": [
        "pos_cnt=data1[data1.Score==1]\n",
        "neg_cnt=data1[data1.Score==0]\n",
        "\n",
        "print(pos_cnt.shape)\n",
        "print(neg_cnt.shape)"
      ],
      "execution_count": null,
      "outputs": []
    },
    {
      "cell_type": "code",
      "metadata": {
        "id": "_EWrlv4kMfeW",
        "colab_type": "code",
        "colab": {}
      },
      "source": [
        "data1.head()"
      ],
      "execution_count": null,
      "outputs": []
    },
    {
      "cell_type": "code",
      "metadata": {
        "id": "rcE9cHapIqDd",
        "colab_type": "code",
        "colab": {}
      },
      "source": [
        "from tensorflow.keras.preprocessing.text import Tokenizer\n",
        "from tensorflow.keras.layers import Embedding\n",
        "from tensorflow.keras.models import Sequential\n",
        "from tensorflow.keras.preprocessing.sequence import pad_sequences"
      ],
      "execution_count": null,
      "outputs": []
    },
    {
      "cell_type": "code",
      "metadata": {
        "id": "4EirFpmtMxf9",
        "colab_type": "code",
        "colab": {}
      },
      "source": [
        "tokenizer=Tokenizer(num_words=1000,filters='!\"#$%&()*+,-./:;<=>?@[\\\\]^_`{|}~\\t\\n',lower=True,split=' ')"
      ],
      "execution_count": null,
      "outputs": []
    },
    {
      "cell_type": "code",
      "metadata": {
        "id": "8OqHnuNjK7_j",
        "colab_type": "code",
        "colab": {}
      },
      "source": [
        ""
      ],
      "execution_count": null,
      "outputs": []
    },
    {
      "cell_type": "code",
      "metadata": {
        "id": "5QR0mXwXJ2sP",
        "colab_type": "code",
        "colab": {}
      },
      "source": [
        "tokenizer.fit_on_texts(data1['Text'])"
      ],
      "execution_count": null,
      "outputs": []
    },
    {
      "cell_type": "code",
      "metadata": {
        "id": "UuGkOGFTKGMA",
        "colab_type": "code",
        "colab": {}
      },
      "source": [
        "print(tokenizer.word_index)"
      ],
      "execution_count": null,
      "outputs": []
    },
    {
      "cell_type": "code",
      "metadata": {
        "id": "q8O085i2JaQO",
        "colab_type": "code",
        "colab": {}
      },
      "source": [
        "print(len(tokenizer.word_index))"
      ],
      "execution_count": null,
      "outputs": []
    },
    {
      "cell_type": "code",
      "metadata": {
        "id": "-QmAFtOWKTjm",
        "colab_type": "code",
        "colab": {}
      },
      "source": [
        "sequences=tokenizer.texts_to_sequences(data1['Text'].values)"
      ],
      "execution_count": null,
      "outputs": []
    },
    {
      "cell_type": "code",
      "metadata": {
        "id": "EaE0211DKxjO",
        "colab_type": "code",
        "colab": {}
      },
      "source": [
        "print(sequences)"
      ],
      "execution_count": null,
      "outputs": []
    },
    {
      "cell_type": "code",
      "metadata": {
        "id": "BVP1bFd0K77j",
        "colab_type": "code",
        "colab": {}
      },
      "source": [
        "print(sequences[0:10])"
      ],
      "execution_count": null,
      "outputs": []
    },
    {
      "cell_type": "code",
      "metadata": {
        "id": "vMsl8OonLC3D",
        "colab_type": "code",
        "colab": {}
      },
      "source": [
        "padded=pad_sequences(sequences,maxlen=40,padding='post')"
      ],
      "execution_count": null,
      "outputs": []
    },
    {
      "cell_type": "code",
      "metadata": {
        "id": "kXbg2oTBLiWZ",
        "colab_type": "code",
        "colab": {}
      },
      "source": [
        "print(padded[0:10])"
      ],
      "execution_count": null,
      "outputs": []
    },
    {
      "cell_type": "code",
      "metadata": {
        "id": "DPLj2TlQLolZ",
        "colab_type": "code",
        "colab": {}
      },
      "source": [
        "padded.shape\n"
      ],
      "execution_count": null,
      "outputs": []
    },
    {
      "cell_type": "code",
      "metadata": {
        "id": "lMoo9wG_SxkV",
        "colab_type": "code",
        "colab": {}
      },
      "source": [
        "X=padded"
      ],
      "execution_count": null,
      "outputs": []
    },
    {
      "cell_type": "code",
      "metadata": {
        "id": "AK-q9Up5Luc6",
        "colab_type": "code",
        "colab": {}
      },
      "source": [
        "from tensorflow.keras.models import Sequential\n",
        "from keras.layers import Dense,SpatialDropout1D,LSTM,Embedding\n",
        "\n",
        "\n",
        "embed_dim = 10\n",
        "lstm_out = 100\n",
        "\n",
        "model = Sequential()\n",
        "model.add(Embedding(1000, embed_dim,input_length = X.shape[1]))\n",
        "model.add(SpatialDropout1D(0.4))\n",
        "model.add(LSTM(lstm_out, dropout=0.2, recurrent_dropout=0.2))\n",
        "model.add(Dense(1,activation='softmax'))\n",
        "model.compile(loss = 'categorical_crossentropy', optimizer='adam',metrics = ['accuracy'])\n",
        "print(model.summary())\n"
      ],
      "execution_count": null,
      "outputs": []
    },
    {
      "cell_type": "code",
      "metadata": {
        "id": "yUxMx3ksTHfw",
        "colab_type": "code",
        "colab": {}
      },
      "source": [
        "from sklearn.model_selection import train_test_split\n"
      ],
      "execution_count": null,
      "outputs": []
    },
    {
      "cell_type": "code",
      "metadata": {
        "id": "OhsNN8isUM7d",
        "colab_type": "code",
        "colab": {}
      },
      "source": [
        "Y=data1['Score'].values"
      ],
      "execution_count": null,
      "outputs": []
    },
    {
      "cell_type": "code",
      "metadata": {
        "id": "w64BKPnrUR5g",
        "colab_type": "code",
        "colab": {}
      },
      "source": [
        "Y.shape"
      ],
      "execution_count": null,
      "outputs": []
    },
    {
      "cell_type": "code",
      "metadata": {
        "id": "b6bzrp3uWMae",
        "colab_type": "code",
        "colab": {}
      },
      "source": [
        "X.shape"
      ],
      "execution_count": null,
      "outputs": []
    },
    {
      "cell_type": "code",
      "metadata": {
        "id": "bGmzqtVJT1Aq",
        "colab_type": "code",
        "colab": {}
      },
      "source": [
        "#train_X,train_Y,test_X,test_Y= train_test_split(X,Y,test_size=0.25)\n",
        "X_train, X_test, Y_train, Y_test = train_test_split(X,Y, test_size = 0.33, random_state = 42)\n"
      ],
      "execution_count": null,
      "outputs": []
    },
    {
      "cell_type": "code",
      "metadata": {
        "id": "ytGdqXvyUxsX",
        "colab_type": "code",
        "colab": {}
      },
      "source": [
        "print(X_train.shape)\n",
        "print(Y_train.shape)\n",
        "print(X_test.shape)\n",
        "print(Y_test.shape)"
      ],
      "execution_count": null,
      "outputs": []
    },
    {
      "cell_type": "code",
      "metadata": {
        "id": "Umtz-UIOT1ib",
        "colab_type": "code",
        "colab": {}
      },
      "source": [
        "model.fit(X_train,Y_train,batch_size=32,epochs=4)"
      ],
      "execution_count": null,
      "outputs": []
    },
    {
      "cell_type": "code",
      "metadata": {
        "id": "QbNmakugVIKX",
        "colab_type": "code",
        "colab": {}
      },
      "source": [
        "validation_size = 1000\n",
        "\n",
        "X_validate = X_test[-validation_size:]\n",
        "Y_validate = Y_test[-validation_size:]\n",
        "X_test = X_test[:-validation_size]\n",
        "Y_test = Y_test[:-validation_size]\n",
        "score,acc = model.evaluate(X_test, Y_test, verbose = 2, batch_size = 32)\n",
        "print(\"score: %.2f\" % (score))\n",
        "print(\"acc: %.2f\" % (acc))"
      ],
      "execution_count": null,
      "outputs": []
    },
    {
      "cell_type": "code",
      "metadata": {
        "id": "VopkTD9IVI9T",
        "colab_type": "code",
        "colab": {}
      },
      "source": [
        "twt = ['not tasty']\n",
        "#vectorizing the tweet by the pre-fitted tokenizer instance\n",
        "twt = tokenizer.texts_to_sequences(twt)\n",
        "#padding the tweet to have exactly the same shape as `embedding_2` input\n",
        "twt = pad_sequences(twt, 40, dtype='int32', value=0)\n",
        "#print(twt)\n",
        "sentiment = model.predict(twt,batch_size=1,verbose = 2)[0]\n",
        "print(int(sentiment))\n",
        "\n",
        "\n",
        "\n",
        "\n",
        "#print(np.argmax(sentiment))\n",
        "\n",
        "if((sentiment) == 0):\n",
        "    print(\"negative\")\n",
        "elif ((sentiment) == 1):\n",
        "    print(\"positive\")"
      ],
      "execution_count": null,
      "outputs": []
    },
    {
      "cell_type": "code",
      "metadata": {
        "id": "_MPbYcdDtbah",
        "colab_type": "code",
        "colab": {}
      },
      "source": [
        ""
      ],
      "execution_count": null,
      "outputs": []
    }
  ]
}