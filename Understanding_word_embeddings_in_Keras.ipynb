{
  "nbformat": 4,
  "nbformat_minor": 0,
  "metadata": {
    "colab": {
      "name": "Understanding word embeddings in Keras.ipynb",
      "provenance": [],
      "collapsed_sections": [],
      "authorship_tag": "ABX9TyMgpW6shK8xIPWAsBWW4dgO",
      "include_colab_link": true
    },
    "kernelspec": {
      "name": "python3",
      "display_name": "Python 3"
    }
  },
  "cells": [
    {
      "cell_type": "markdown",
      "metadata": {
        "id": "view-in-github",
        "colab_type": "text"
      },
      "source": [
        "<a href=\"https://colab.research.google.com/github/PearlSikka/language-ninja/blob/master/Understanding_word_embeddings_in_Keras.ipynb\" target=\"_parent\"><img src=\"https://colab.research.google.com/assets/colab-badge.svg\" alt=\"Open In Colab\"/></a>"
      ]
    },
    {
      "cell_type": "code",
      "metadata": {
        "id": "K_LpBllASNfL",
        "colab_type": "code",
        "colab": {}
      },
      "source": [
        "import tensorflow as tf\n",
        "import numpy as np\n",
        "import pandas as pd"
      ],
      "execution_count": null,
      "outputs": []
    },
    {
      "cell_type": "code",
      "metadata": {
        "id": "60YN84w3SYr5",
        "colab_type": "code",
        "colab": {}
      },
      "source": [
        "sentences=['I love dogs','I want to have a dog','It would be wonderful to have a dog']"
      ],
      "execution_count": null,
      "outputs": []
    },
    {
      "cell_type": "code",
      "metadata": {
        "id": "UztLuOaUSi2l",
        "colab_type": "code",
        "colab": {}
      },
      "source": [
        "from tensorflow.keras.preprocessing.text import Tokenizer"
      ],
      "execution_count": null,
      "outputs": []
    },
    {
      "cell_type": "code",
      "metadata": {
        "id": "iwDGF6xSS5dT",
        "colab_type": "code",
        "colab": {}
      },
      "source": [
        "tokenizer=Tokenizer(num_words=30,lower=True,split=' ')"
      ],
      "execution_count": null,
      "outputs": []
    },
    {
      "cell_type": "code",
      "metadata": {
        "id": "2ytXbhlJTy5c",
        "colab_type": "code",
        "colab": {}
      },
      "source": [
        "sequences=tokenizer.fit_on_texts(sentences)"
      ],
      "execution_count": null,
      "outputs": []
    },
    {
      "cell_type": "code",
      "metadata": {
        "id": "nWYAQ7rBTdEH",
        "colab_type": "code",
        "colab": {
          "base_uri": "https://localhost:8080/",
          "height": 228
        },
        "outputId": "48ec03a5-7910-4791-9186-97acdfc4672c"
      },
      "source": [
        "tokenizer.word_index"
      ],
      "execution_count": null,
      "outputs": [
        {
          "output_type": "execute_result",
          "data": {
            "text/plain": [
              "{'a': 4,\n",
              " 'be': 11,\n",
              " 'dog': 5,\n",
              " 'dogs': 7,\n",
              " 'have': 3,\n",
              " 'i': 1,\n",
              " 'it': 9,\n",
              " 'love': 6,\n",
              " 'to': 2,\n",
              " 'want': 8,\n",
              " 'wonderful': 12,\n",
              " 'would': 10}"
            ]
          },
          "metadata": {
            "tags": []
          },
          "execution_count": 51
        }
      ]
    },
    {
      "cell_type": "code",
      "metadata": {
        "id": "iEzRndQFVfE8",
        "colab_type": "code",
        "colab": {}
      },
      "source": [
        "seq=tokenizer.texts_to_sequences(sentences)"
      ],
      "execution_count": null,
      "outputs": []
    },
    {
      "cell_type": "code",
      "metadata": {
        "id": "d9rcAE8pVrOU",
        "colab_type": "code",
        "colab": {}
      },
      "source": [
        "from tensorflow.keras.preprocessing.sequence import pad_sequences\n"
      ],
      "execution_count": null,
      "outputs": []
    },
    {
      "cell_type": "code",
      "metadata": {
        "id": "wjDgKbvzWNJm",
        "colab_type": "code",
        "colab": {}
      },
      "source": [
        "padded=pad_sequences(seq)"
      ],
      "execution_count": null,
      "outputs": []
    },
    {
      "cell_type": "code",
      "metadata": {
        "id": "umYwGhRtXyfQ",
        "colab_type": "code",
        "colab": {
          "base_uri": "https://localhost:8080/",
          "height": 70
        },
        "outputId": "425f1279-e29e-4121-e779-5d2bcdbc438f"
      },
      "source": [
        "print(padded)"
      ],
      "execution_count": null,
      "outputs": [
        {
          "output_type": "stream",
          "text": [
            "[[ 0  0  0  0  0  1  6  7]\n",
            " [ 0  0  1  8  2  3  4  5]\n",
            " [ 9 10 11 12  2  3  4  5]]\n"
          ],
          "name": "stdout"
        }
      ]
    },
    {
      "cell_type": "code",
      "metadata": {
        "id": "LrFdwxNCcnuh",
        "colab_type": "code",
        "colab": {
          "base_uri": "https://localhost:8080/",
          "height": 34
        },
        "outputId": "162bbf0d-2e26-4bc3-fce0-65c4fd3598f5"
      },
      "source": [
        "print(padded.shape[1])"
      ],
      "execution_count": null,
      "outputs": [
        {
          "output_type": "stream",
          "text": [
            "8\n"
          ],
          "name": "stdout"
        }
      ]
    },
    {
      "cell_type": "code",
      "metadata": {
        "id": "QLQGeIPfWWad",
        "colab_type": "code",
        "colab": {}
      },
      "source": [
        "from tensorflow.keras.layers import Embedding,Dense,Flatten"
      ],
      "execution_count": null,
      "outputs": []
    },
    {
      "cell_type": "code",
      "metadata": {
        "id": "oQ128u-sX5fX",
        "colab_type": "code",
        "colab": {}
      },
      "source": [
        "from tensorflow.keras.models import Sequential"
      ],
      "execution_count": null,
      "outputs": []
    },
    {
      "cell_type": "code",
      "metadata": {
        "id": "ID7NIOalXwrL",
        "colab_type": "code",
        "colab": {}
      },
      "source": [
        "model=Sequential()"
      ],
      "execution_count": null,
      "outputs": []
    },
    {
      "cell_type": "code",
      "metadata": {
        "id": "zRcRbu5XX4Tg",
        "colab_type": "code",
        "colab": {}
      },
      "source": [
        "embedding_layer=model.add(Embedding(input_dim=30,output_dim=4,input_length=padded.shape[1]))"
      ],
      "execution_count": null,
      "outputs": []
    },
    {
      "cell_type": "code",
      "metadata": {
        "id": "8PO3OO3Gczw0",
        "colab_type": "code",
        "colab": {
          "base_uri": "https://localhost:8080/",
          "height": 34
        },
        "outputId": "d594590c-630e-492b-e572-e7e655ccaece"
      },
      "source": [
        "model.output_shape"
      ],
      "execution_count": null,
      "outputs": [
        {
          "output_type": "execute_result",
          "data": {
            "text/plain": [
              "(None, 8, 4)"
            ]
          },
          "metadata": {
            "tags": []
          },
          "execution_count": 61
        }
      ]
    },
    {
      "cell_type": "code",
      "metadata": {
        "id": "BpJbZEmPdSyS",
        "colab_type": "code",
        "colab": {}
      },
      "source": [
        "word_vec=model.add(Flatten(embedding_layer))"
      ],
      "execution_count": null,
      "outputs": []
    },
    {
      "cell_type": "code",
      "metadata": {
        "id": "df7_CIRGhcj7",
        "colab_type": "code",
        "colab": {
          "base_uri": "https://localhost:8080/",
          "height": 34
        },
        "outputId": "4b34238a-be0f-468c-b69e-60bc16105d9b"
      },
      "source": [
        "model.output_shape"
      ],
      "execution_count": null,
      "outputs": [
        {
          "output_type": "execute_result",
          "data": {
            "text/plain": [
              "(None, 32)"
            ]
          },
          "metadata": {
            "tags": []
          },
          "execution_count": 63
        }
      ]
    },
    {
      "cell_type": "code",
      "metadata": {
        "id": "2oaWAP6Nh18k",
        "colab_type": "code",
        "colab": {}
      },
      "source": [
        "import keras"
      ],
      "execution_count": null,
      "outputs": []
    },
    {
      "cell_type": "code",
      "metadata": {
        "id": "Hr2vzjrQhlu8",
        "colab_type": "code",
        "colab": {}
      },
      "source": [
        "model.compile(optimizer=keras.optimizers.Adam(lr=1e-3),loss='binary_crossentropy',metrics=['acc'])"
      ],
      "execution_count": null,
      "outputs": []
    },
    {
      "cell_type": "code",
      "metadata": {
        "id": "LrCqnlDRhwNw",
        "colab_type": "code",
        "colab": {
          "base_uri": "https://localhost:8080/",
          "height": 246
        },
        "outputId": "14e0d640-cd19-43b3-9054-01147fe17253"
      },
      "source": [
        "print(model.summary())"
      ],
      "execution_count": null,
      "outputs": [
        {
          "output_type": "stream",
          "text": [
            "Model: \"sequential_1\"\n",
            "_________________________________________________________________\n",
            "Layer (type)                 Output Shape              Param #   \n",
            "=================================================================\n",
            "embedding_3 (Embedding)      (None, 8, 4)              120       \n",
            "_________________________________________________________________\n",
            "flatten_1 (Flatten)          (None, 32)                0         \n",
            "=================================================================\n",
            "Total params: 120\n",
            "Trainable params: 120\n",
            "Non-trainable params: 0\n",
            "_________________________________________________________________\n",
            "None\n"
          ],
          "name": "stdout"
        }
      ]
    },
    {
      "cell_type": "code",
      "metadata": {
        "id": "ebbx3YPziI36",
        "colab_type": "code",
        "colab": {}
      },
      "source": [
        "embeddings=model.predict(padded)"
      ],
      "execution_count": null,
      "outputs": []
    },
    {
      "cell_type": "code",
      "metadata": {
        "id": "jFsMOGe6i4n5",
        "colab_type": "code",
        "colab": {
          "base_uri": "https://localhost:8080/",
          "height": 34
        },
        "outputId": "d279faf2-1bf9-4001-8364-03766f127c0b"
      },
      "source": [
        "embeddings.shape"
      ],
      "execution_count": null,
      "outputs": [
        {
          "output_type": "execute_result",
          "data": {
            "text/plain": [
              "(3, 32)"
            ]
          },
          "metadata": {
            "tags": []
          },
          "execution_count": 68
        }
      ]
    },
    {
      "cell_type": "code",
      "metadata": {
        "id": "-UDIbyzFi7n6",
        "colab_type": "code",
        "colab": {
          "base_uri": "https://localhost:8080/",
          "height": 334
        },
        "outputId": "5b453e52-48d1-4c67-b53d-dde99f6e49d9"
      },
      "source": [
        "print(embeddings)"
      ],
      "execution_count": null,
      "outputs": [
        {
          "output_type": "stream",
          "text": [
            "[[-0.01872849 -0.04797459  0.03956915 -0.04462173 -0.01872849 -0.04797459\n",
            "   0.03956915 -0.04462173 -0.01872849 -0.04797459  0.03956915 -0.04462173\n",
            "  -0.01872849 -0.04797459  0.03956915 -0.04462173 -0.01872849 -0.04797459\n",
            "   0.03956915 -0.04462173 -0.0058645   0.02711881  0.00265054 -0.01248588\n",
            "   0.02194018  0.00160649  0.011636    0.03894926  0.02013302  0.04051527\n",
            "   0.01802767  0.04468035]\n",
            " [-0.01872849 -0.04797459  0.03956915 -0.04462173 -0.01872849 -0.04797459\n",
            "   0.03956915 -0.04462173 -0.0058645   0.02711881  0.00265054 -0.01248588\n",
            "  -0.03646675  0.01246463 -0.02161659  0.03325936 -0.03654734 -0.03333615\n",
            "  -0.02868624 -0.02305799 -0.00400965 -0.04017516 -0.04059831 -0.03638431\n",
            "   0.02336622  0.02416473  0.0246908   0.01249458 -0.04469686 -0.04553995\n",
            "   0.01142102  0.03626997]\n",
            " [ 0.02696354 -0.01354486 -0.00957673  0.01774893  0.04993579  0.0337227\n",
            "   0.02782904  0.01144833  0.03969407  0.04271953 -0.02954074 -0.01688446\n",
            "   0.00142474 -0.04509921  0.00543742 -0.02269064 -0.03654734 -0.03333615\n",
            "  -0.02868624 -0.02305799 -0.00400965 -0.04017516 -0.04059831 -0.03638431\n",
            "   0.02336622  0.02416473  0.0246908   0.01249458 -0.04469686 -0.04553995\n",
            "   0.01142102  0.03626997]]\n"
          ],
          "name": "stdout"
        }
      ]
    },
    {
      "cell_type": "code",
      "metadata": {
        "id": "bvj5FlzRkUQD",
        "colab_type": "code",
        "colab": {}
      },
      "source": [
        "embed_re=embeddings.reshape(-1,8,4)"
      ],
      "execution_count": null,
      "outputs": []
    },
    {
      "cell_type": "code",
      "metadata": {
        "id": "vUL04msMlbi-",
        "colab_type": "code",
        "colab": {
          "base_uri": "https://localhost:8080/",
          "height": 34
        },
        "outputId": "5b7ecd39-dc03-4413-cbaa-93afae9be3e2"
      },
      "source": [
        "embed_re.shape"
      ],
      "execution_count": null,
      "outputs": [
        {
          "output_type": "execute_result",
          "data": {
            "text/plain": [
              "(3, 8, 4)"
            ]
          },
          "metadata": {
            "tags": []
          },
          "execution_count": 71
        }
      ]
    },
    {
      "cell_type": "code",
      "metadata": {
        "id": "eCprfqdtldhI",
        "colab_type": "code",
        "colab": {
          "base_uri": "https://localhost:8080/",
          "height": 492
        },
        "outputId": "47d0d7b1-4177-45f3-88f7-403189a959da"
      },
      "source": [
        "embed_re"
      ],
      "execution_count": null,
      "outputs": [
        {
          "output_type": "execute_result",
          "data": {
            "text/plain": [
              "array([[[-0.01872849, -0.04797459,  0.03956915, -0.04462173],\n",
              "        [-0.01872849, -0.04797459,  0.03956915, -0.04462173],\n",
              "        [-0.01872849, -0.04797459,  0.03956915, -0.04462173],\n",
              "        [-0.01872849, -0.04797459,  0.03956915, -0.04462173],\n",
              "        [-0.01872849, -0.04797459,  0.03956915, -0.04462173],\n",
              "        [-0.0058645 ,  0.02711881,  0.00265054, -0.01248588],\n",
              "        [ 0.02194018,  0.00160649,  0.011636  ,  0.03894926],\n",
              "        [ 0.02013302,  0.04051527,  0.01802767,  0.04468035]],\n",
              "\n",
              "       [[-0.01872849, -0.04797459,  0.03956915, -0.04462173],\n",
              "        [-0.01872849, -0.04797459,  0.03956915, -0.04462173],\n",
              "        [-0.0058645 ,  0.02711881,  0.00265054, -0.01248588],\n",
              "        [-0.03646675,  0.01246463, -0.02161659,  0.03325936],\n",
              "        [-0.03654734, -0.03333615, -0.02868624, -0.02305799],\n",
              "        [-0.00400965, -0.04017516, -0.04059831, -0.03638431],\n",
              "        [ 0.02336622,  0.02416473,  0.0246908 ,  0.01249458],\n",
              "        [-0.04469686, -0.04553995,  0.01142102,  0.03626997]],\n",
              "\n",
              "       [[ 0.02696354, -0.01354486, -0.00957673,  0.01774893],\n",
              "        [ 0.04993579,  0.0337227 ,  0.02782904,  0.01144833],\n",
              "        [ 0.03969407,  0.04271953, -0.02954074, -0.01688446],\n",
              "        [ 0.00142474, -0.04509921,  0.00543742, -0.02269064],\n",
              "        [-0.03654734, -0.03333615, -0.02868624, -0.02305799],\n",
              "        [-0.00400965, -0.04017516, -0.04059831, -0.03638431],\n",
              "        [ 0.02336622,  0.02416473,  0.0246908 ,  0.01249458],\n",
              "        [-0.04469686, -0.04553995,  0.01142102,  0.03626997]]],\n",
              "      dtype=float32)"
            ]
          },
          "metadata": {
            "tags": []
          },
          "execution_count": 72
        }
      ]
    },
    {
      "cell_type": "code",
      "metadata": {
        "id": "x8Un-kYcliBU",
        "colab_type": "code",
        "colab": {}
      },
      "source": [
        ""
      ],
      "execution_count": null,
      "outputs": []
    }
  ]
}