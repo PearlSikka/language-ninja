{
  "nbformat": 4,
  "nbformat_minor": 0,
  "metadata": {
    "colab": {
      "name": "Understanding word embeddings in Keras.ipynb",
      "provenance": [],
      "collapsed_sections": [],
      "include_colab_link": true
    },
    "kernelspec": {
      "name": "python3",
      "display_name": "Python 3"
    }
  },
  "cells": [
    {
      "cell_type": "markdown",
      "metadata": {
        "id": "view-in-github",
        "colab_type": "text"
      },
      "source": [
        "<a href=\"https://colab.research.google.com/github/PearlSikka/language-ninja/blob/master/Understanding_word_embeddings_in_Keras.ipynb\" target=\"_parent\"><img src=\"https://colab.research.google.com/assets/colab-badge.svg\" alt=\"Open In Colab\"/></a>"
      ]
    },
    {
      "cell_type": "code",
      "metadata": {
        "id": "K_LpBllASNfL"
      },
      "source": [
        "import tensorflow as tf\n",
        "import numpy as np\n",
        "import pandas as pd"
      ],
      "execution_count": null,
      "outputs": []
    },
    {
      "cell_type": "code",
      "metadata": {
        "id": "UztLuOaUSi2l"
      },
      "source": [
        "import keras\n",
        "from tensorflow.keras.preprocessing.text import Tokenizer\n",
        "from tensorflow.keras.preprocessing.sequence import pad_sequences\n",
        "from tensorflow.keras.layers import Embedding,Dense,Flatten\n",
        "from tensorflow.keras.models import Sequential"
      ],
      "execution_count": null,
      "outputs": []
    },
    {
      "cell_type": "code",
      "metadata": {
        "id": "XLwJ1if4mjDB"
      },
      "source": [
        "sentences=['I love dogs','Lets go outside and play with dog','Beautiful sunrise today, wake up with positivity and shine on','Lets learn Keras and embeddings using embedding layer']"
      ],
      "execution_count": null,
      "outputs": []
    },
    {
      "cell_type": "code",
      "metadata": {
        "id": "iwDGF6xSS5dT"
      },
      "source": [
        "tokenizer=Tokenizer(num_words=30,lower=True,split=' ')"
      ],
      "execution_count": null,
      "outputs": []
    },
    {
      "cell_type": "code",
      "metadata": {
        "id": "2ytXbhlJTy5c"
      },
      "source": [
        "sequences=tokenizer.fit_on_texts(sentences)"
      ],
      "execution_count": null,
      "outputs": []
    },
    {
      "cell_type": "code",
      "metadata": {
        "id": "nWYAQ7rBTdEH",
        "colab": {
          "base_uri": "https://localhost:8080/",
          "height": 439
        },
        "outputId": "32386f87-2ac1-4ed6-81e1-c527b4c92c45"
      },
      "source": [
        "tokenizer.word_index"
      ],
      "execution_count": null,
      "outputs": [
        {
          "output_type": "execute_result",
          "data": {
            "text/plain": [
              "{'and': 1,\n",
              " 'beautiful': 11,\n",
              " 'dog': 10,\n",
              " 'dogs': 6,\n",
              " 'embedding': 23,\n",
              " 'embeddings': 21,\n",
              " 'go': 7,\n",
              " 'i': 4,\n",
              " 'keras': 20,\n",
              " 'layer': 24,\n",
              " 'learn': 19,\n",
              " 'lets': 2,\n",
              " 'love': 5,\n",
              " 'on': 18,\n",
              " 'outside': 8,\n",
              " 'play': 9,\n",
              " 'positivity': 16,\n",
              " 'shine': 17,\n",
              " 'sunrise': 12,\n",
              " 'today': 13,\n",
              " 'up': 15,\n",
              " 'using': 22,\n",
              " 'wake': 14,\n",
              " 'with': 3}"
            ]
          },
          "metadata": {
            "tags": []
          },
          "execution_count": 111
        }
      ]
    },
    {
      "cell_type": "markdown",
      "metadata": {
        "id": "hl9xuWmclTgx"
      },
      "source": [
        "word_index will return the vocabulary with unqiue words and their indices"
      ]
    },
    {
      "cell_type": "code",
      "metadata": {
        "id": "iEzRndQFVfE8"
      },
      "source": [
        "seq=tokenizer.texts_to_sequences(sentences)"
      ],
      "execution_count": null,
      "outputs": []
    },
    {
      "cell_type": "code",
      "metadata": {
        "id": "wjDgKbvzWNJm"
      },
      "source": [
        "padded=pad_sequences(seq)"
      ],
      "execution_count": null,
      "outputs": []
    },
    {
      "cell_type": "markdown",
      "metadata": {
        "id": "MlM_zHOllaYG"
      },
      "source": [
        "Padded will return the padded sequences with default padding as pre."
      ]
    },
    {
      "cell_type": "code",
      "metadata": {
        "id": "QLQGeIPfWWad",
        "colab": {
          "base_uri": "https://localhost:8080/",
          "height": 87
        },
        "outputId": "4181d769-b16c-4fe3-a979-9e0ecc29fa78"
      },
      "source": [
        "for i,doc in enumerate(padded):\n",
        "  print(\"Document\",i+1,\"has padded encoding as :\",doc)"
      ],
      "execution_count": null,
      "outputs": [
        {
          "output_type": "stream",
          "text": [
            "Document 1 has padded encoding as : [0 0 0 0 0 0 0 4 5 6]\n",
            "Document 2 has padded encoding as : [ 0  0  0  2  7  8  1  9  3 10]\n",
            "Document 3 has padded encoding as : [11 12 13 14 15  3 16  1 17 18]\n",
            "Document 4 has padded encoding as : [ 0  0  2 19 20  1 21 22 23 24]\n"
          ],
          "name": "stdout"
        }
      ]
    },
    {
      "cell_type": "markdown",
      "metadata": {
        "id": "IxaHMUSaqB2z"
      },
      "source": [
        "We'll build sequential model and and use Embedding layer"
      ]
    },
    {
      "cell_type": "code",
      "metadata": {
        "id": "ID7NIOalXwrL"
      },
      "source": [
        "model=Sequential()"
      ],
      "execution_count": null,
      "outputs": []
    },
    {
      "cell_type": "code",
      "metadata": {
        "id": "zRcRbu5XX4Tg"
      },
      "source": [
        "vocab_size=30\n",
        "output_len=5\n",
        "embedding_layer=model.add(Embedding(input_dim=vocab_size,output_dim=output_len,input_length=padded.shape[1]))"
      ],
      "execution_count": null,
      "outputs": []
    },
    {
      "cell_type": "markdown",
      "metadata": {
        "id": "-4lstqQNlkyv"
      },
      "source": [
        "Embedding layer converts Sparse word vectors to Dense vectors.\n",
        "\n",
        "Embedding layer takes several paramters:\n",
        "input_dim: size of the vocabulary (word indices should not exceed the input_dim)\n",
        "output_dim: size of the output dimensionsionality for each of the word indices. output_dim is basically tagging each word into the output_dim size.\n",
        "input_length: input_length is the size of the features or max_length of the padded sequences.\n"
      ]
    },
    {
      "cell_type": "code",
      "metadata": {
        "id": "8PO3OO3Gczw0",
        "colab": {
          "base_uri": "https://localhost:8080/",
          "height": 34
        },
        "outputId": "c450904d-0755-4b8a-a1df-d5c8abc9167f"
      },
      "source": [
        "model.output_shape"
      ],
      "execution_count": null,
      "outputs": [
        {
          "output_type": "execute_result",
          "data": {
            "text/plain": [
              "(None, 10, 5)"
            ]
          },
          "metadata": {
            "tags": []
          },
          "execution_count": 119
        }
      ]
    },
    {
      "cell_type": "markdown",
      "metadata": {
        "id": "6kCK-IbZr8IW"
      },
      "source": [
        "output_shape will be of dimension (none, input_length, output_dim). Each word index will be embedded into output_dim."
      ]
    },
    {
      "cell_type": "code",
      "metadata": {
        "id": "BpJbZEmPdSyS"
      },
      "source": [
        "word_vec=model.add(Flatten(embedding_layer))"
      ],
      "execution_count": null,
      "outputs": []
    },
    {
      "cell_type": "code",
      "metadata": {
        "id": "df7_CIRGhcj7",
        "colab": {
          "base_uri": "https://localhost:8080/",
          "height": 34
        },
        "outputId": "58caa499-9752-465d-b0c8-34c4346c4d3e"
      },
      "source": [
        "model.output_shape"
      ],
      "execution_count": null,
      "outputs": [
        {
          "output_type": "execute_result",
          "data": {
            "text/plain": [
              "(None, 50)"
            ]
          },
          "metadata": {
            "tags": []
          },
          "execution_count": 121
        }
      ]
    },
    {
      "cell_type": "code",
      "metadata": {
        "id": "Hr2vzjrQhlu8"
      },
      "source": [
        "model.compile(optimizer=keras.optimizers.Adam(lr=1e-3),loss='binary_crossentropy',metrics=['acc'])"
      ],
      "execution_count": null,
      "outputs": []
    },
    {
      "cell_type": "code",
      "metadata": {
        "id": "LrCqnlDRhwNw",
        "colab": {
          "base_uri": "https://localhost:8080/",
          "height": 246
        },
        "outputId": "61fec065-6676-4c20-b40a-fd48370fdb00"
      },
      "source": [
        "print(model.summary())"
      ],
      "execution_count": null,
      "outputs": [
        {
          "output_type": "stream",
          "text": [
            "Model: \"sequential_4\"\n",
            "_________________________________________________________________\n",
            "Layer (type)                 Output Shape              Param #   \n",
            "=================================================================\n",
            "embedding_4 (Embedding)      (None, 10, 5)             150       \n",
            "_________________________________________________________________\n",
            "flatten_4 (Flatten)          (None, 50)                0         \n",
            "=================================================================\n",
            "Total params: 150\n",
            "Trainable params: 150\n",
            "Non-trainable params: 0\n",
            "_________________________________________________________________\n",
            "None\n"
          ],
          "name": "stdout"
        }
      ]
    },
    {
      "cell_type": "code",
      "metadata": {
        "id": "ebbx3YPziI36",
        "colab": {
          "base_uri": "https://localhost:8080/",
          "height": 54
        },
        "outputId": "50481ff4-fd6f-449a-aa30-983f76db6acf"
      },
      "source": [
        "embeddings=model.predict(padded)"
      ],
      "execution_count": null,
      "outputs": [
        {
          "output_type": "stream",
          "text": [
            "WARNING:tensorflow:5 out of the last 5 calls to <function Model.make_predict_function.<locals>.predict_function at 0x7ff3fa0862f0> triggered tf.function retracing. Tracing is expensive and the excessive number of tracings could be due to (1) creating @tf.function repeatedly in a loop, (2) passing tensors with different shapes, (3) passing Python objects instead of tensors. For (1), please define your @tf.function outside of the loop. For (2), @tf.function has experimental_relax_shapes=True option that relaxes argument shapes that can avoid unnecessary retracing. For (3), please refer to https://www.tensorflow.org/tutorials/customization/performance#python_or_tensor_args and https://www.tensorflow.org/api_docs/python/tf/function for  more details.\n"
          ],
          "name": "stdout"
        }
      ]
    },
    {
      "cell_type": "code",
      "metadata": {
        "id": "jFsMOGe6i4n5",
        "colab": {
          "base_uri": "https://localhost:8080/",
          "height": 34
        },
        "outputId": "e0bfaff9-0ef7-418b-a782-c42f4f997511"
      },
      "source": [
        "embeddings.shape"
      ],
      "execution_count": null,
      "outputs": [
        {
          "output_type": "execute_result",
          "data": {
            "text/plain": [
              "(4, 50)"
            ]
          },
          "metadata": {
            "tags": []
          },
          "execution_count": 125
        }
      ]
    },
    {
      "cell_type": "code",
      "metadata": {
        "id": "-UDIbyzFi7n6",
        "colab": {
          "base_uri": "https://localhost:8080/",
          "height": 932
        },
        "outputId": "fb73da89-75e9-4bae-fade-5041c2b53bb6"
      },
      "source": [
        "print(embeddings)"
      ],
      "execution_count": null,
      "outputs": [
        {
          "output_type": "stream",
          "text": [
            "[[-3.64207402e-02  4.60023619e-02  1.82082392e-02  4.49717753e-02\n",
            "  -1.08600035e-02 -3.64207402e-02  4.60023619e-02  1.82082392e-02\n",
            "   4.49717753e-02 -1.08600035e-02 -3.64207402e-02  4.60023619e-02\n",
            "   1.82082392e-02  4.49717753e-02 -1.08600035e-02 -3.64207402e-02\n",
            "   4.60023619e-02  1.82082392e-02  4.49717753e-02 -1.08600035e-02\n",
            "  -3.64207402e-02  4.60023619e-02  1.82082392e-02  4.49717753e-02\n",
            "  -1.08600035e-02 -3.64207402e-02  4.60023619e-02  1.82082392e-02\n",
            "   4.49717753e-02 -1.08600035e-02 -3.64207402e-02  4.60023619e-02\n",
            "   1.82082392e-02  4.49717753e-02 -1.08600035e-02  4.60126512e-02\n",
            "   2.81035192e-02 -4.02567759e-02  2.40106322e-02 -1.39630325e-02\n",
            "   2.82880776e-02 -2.39621289e-02  4.07682396e-02  2.92933919e-02\n",
            "   1.71529166e-02 -2.97401678e-02 -3.55838165e-02 -1.22873411e-02\n",
            "   1.67148449e-02  3.50773074e-02]\n",
            " [-3.64207402e-02  4.60023619e-02  1.82082392e-02  4.49717753e-02\n",
            "  -1.08600035e-02 -3.64207402e-02  4.60023619e-02  1.82082392e-02\n",
            "   4.49717753e-02 -1.08600035e-02 -3.64207402e-02  4.60023619e-02\n",
            "   1.82082392e-02  4.49717753e-02 -1.08600035e-02 -4.08818573e-03\n",
            "  -1.68244466e-02  1.44119523e-02 -5.92736155e-03  2.96750702e-02\n",
            "  -4.94222529e-02  2.30249278e-02  4.06998284e-02  4.90430743e-03\n",
            "  -1.52001753e-02 -1.50185451e-02  3.16663049e-02  3.63096111e-02\n",
            "   2.50179805e-02 -4.46273349e-02 -2.15240363e-02  1.05548985e-02\n",
            "   2.03086175e-02 -3.24495807e-02  4.47308086e-02 -3.18386927e-02\n",
            "   3.46641205e-02 -4.02141362e-04 -3.60705033e-02  3.37904133e-02\n",
            "   4.64872271e-03 -1.43003464e-02 -2.16424819e-02  1.41778030e-02\n",
            "  -6.73507527e-03  4.52283956e-02  1.16829276e-02  1.50073282e-02\n",
            "   4.62499596e-02 -2.39224434e-02]\n",
            " [ 2.34653093e-02  1.38621666e-02 -7.46928528e-03 -1.08212121e-02\n",
            "   4.58593629e-02  2.63857357e-02 -1.66436657e-02 -3.00678741e-02\n",
            "  -3.75007465e-03  3.58812250e-02 -3.42672095e-02 -4.95253801e-02\n",
            "   3.30209732e-03  5.77586889e-03 -1.03456005e-02 -3.26022059e-02\n",
            "  -1.05408579e-03 -3.25742364e-02  1.10323913e-02 -4.83320244e-02\n",
            "  -3.91601399e-03 -3.87636796e-02  4.75225784e-02  1.90269239e-02\n",
            "   2.23482512e-02  4.64872271e-03 -1.43003464e-02 -2.16424819e-02\n",
            "   1.41778030e-02 -6.73507527e-03  4.32636850e-02  4.71681021e-02\n",
            "  -3.65085974e-02  1.73537992e-02  1.87424906e-02 -2.15240363e-02\n",
            "   1.05548985e-02  2.03086175e-02 -3.24495807e-02  4.47308086e-02\n",
            "  -8.26781988e-03 -2.95824893e-02  3.46790217e-02 -2.00600866e-02\n",
            "  -4.46938872e-02 -3.13654430e-02  3.08876522e-02  1.28886439e-02\n",
            "   1.94630288e-02 -2.49049310e-02]\n",
            " [-3.64207402e-02  4.60023619e-02  1.82082392e-02  4.49717753e-02\n",
            "  -1.08600035e-02 -3.64207402e-02  4.60023619e-02  1.82082392e-02\n",
            "   4.49717753e-02 -1.08600035e-02 -4.08818573e-03 -1.68244466e-02\n",
            "   1.44119523e-02 -5.92736155e-03  2.96750702e-02  1.12975128e-02\n",
            "   2.08641998e-02  8.18806887e-03 -6.92936033e-03  3.21063735e-02\n",
            "  -3.01676039e-02  4.27042283e-02 -1.31913796e-02  3.93025912e-02\n",
            "  -1.28590949e-02 -2.15240363e-02  1.05548985e-02  2.03086175e-02\n",
            "  -3.24495807e-02  4.47308086e-02 -1.93747133e-03 -4.54843640e-02\n",
            "   4.02583927e-03 -1.12073645e-02 -2.88113952e-05  4.45734970e-02\n",
            "  -1.62421539e-03  2.53416039e-02  4.00533117e-02 -2.35622767e-02\n",
            "  -2.43246686e-02 -3.47243063e-02  3.00275348e-02  4.20475043e-02\n",
            "  -4.56171110e-03 -2.75079608e-02 -2.73610111e-02  3.54201458e-02\n",
            "  -2.94891726e-02 -1.44278631e-02]]\n"
          ],
          "name": "stdout"
        }
      ]
    },
    {
      "cell_type": "code",
      "metadata": {
        "id": "bvj5FlzRkUQD"
      },
      "source": [
        "embed_re=embeddings.reshape(-1,padded.shape[1],output_len)"
      ],
      "execution_count": null,
      "outputs": []
    },
    {
      "cell_type": "code",
      "metadata": {
        "id": "vUL04msMlbi-",
        "colab": {
          "base_uri": "https://localhost:8080/",
          "height": 34
        },
        "outputId": "bddadea0-1ce6-4ebb-eb08-a2af5eda0ebe"
      },
      "source": [
        "embed_re.shape"
      ],
      "execution_count": null,
      "outputs": [
        {
          "output_type": "execute_result",
          "data": {
            "text/plain": [
              "(4, 10, 5)"
            ]
          },
          "metadata": {
            "tags": []
          },
          "execution_count": 128
        }
      ]
    },
    {
      "cell_type": "code",
      "metadata": {
        "id": "eCprfqdtldhI",
        "colab": {
          "base_uri": "https://localhost:8080/",
          "height": 1000
        },
        "outputId": "0512417e-2fa2-4d41-dadb-69d3c07a7321"
      },
      "source": [
        "embed_re"
      ],
      "execution_count": null,
      "outputs": [
        {
          "output_type": "execute_result",
          "data": {
            "text/plain": [
              "array([[[-3.64207402e-02,  4.60023619e-02,  1.82082392e-02,\n",
              "          4.49717753e-02, -1.08600035e-02],\n",
              "        [-3.64207402e-02,  4.60023619e-02,  1.82082392e-02,\n",
              "          4.49717753e-02, -1.08600035e-02],\n",
              "        [-3.64207402e-02,  4.60023619e-02,  1.82082392e-02,\n",
              "          4.49717753e-02, -1.08600035e-02],\n",
              "        [-3.64207402e-02,  4.60023619e-02,  1.82082392e-02,\n",
              "          4.49717753e-02, -1.08600035e-02],\n",
              "        [-3.64207402e-02,  4.60023619e-02,  1.82082392e-02,\n",
              "          4.49717753e-02, -1.08600035e-02],\n",
              "        [-3.64207402e-02,  4.60023619e-02,  1.82082392e-02,\n",
              "          4.49717753e-02, -1.08600035e-02],\n",
              "        [-3.64207402e-02,  4.60023619e-02,  1.82082392e-02,\n",
              "          4.49717753e-02, -1.08600035e-02],\n",
              "        [ 4.60126512e-02,  2.81035192e-02, -4.02567759e-02,\n",
              "          2.40106322e-02, -1.39630325e-02],\n",
              "        [ 2.82880776e-02, -2.39621289e-02,  4.07682396e-02,\n",
              "          2.92933919e-02,  1.71529166e-02],\n",
              "        [-2.97401678e-02, -3.55838165e-02, -1.22873411e-02,\n",
              "          1.67148449e-02,  3.50773074e-02]],\n",
              "\n",
              "       [[-3.64207402e-02,  4.60023619e-02,  1.82082392e-02,\n",
              "          4.49717753e-02, -1.08600035e-02],\n",
              "        [-3.64207402e-02,  4.60023619e-02,  1.82082392e-02,\n",
              "          4.49717753e-02, -1.08600035e-02],\n",
              "        [-3.64207402e-02,  4.60023619e-02,  1.82082392e-02,\n",
              "          4.49717753e-02, -1.08600035e-02],\n",
              "        [-4.08818573e-03, -1.68244466e-02,  1.44119523e-02,\n",
              "         -5.92736155e-03,  2.96750702e-02],\n",
              "        [-4.94222529e-02,  2.30249278e-02,  4.06998284e-02,\n",
              "          4.90430743e-03, -1.52001753e-02],\n",
              "        [-1.50185451e-02,  3.16663049e-02,  3.63096111e-02,\n",
              "          2.50179805e-02, -4.46273349e-02],\n",
              "        [-2.15240363e-02,  1.05548985e-02,  2.03086175e-02,\n",
              "         -3.24495807e-02,  4.47308086e-02],\n",
              "        [-3.18386927e-02,  3.46641205e-02, -4.02141362e-04,\n",
              "         -3.60705033e-02,  3.37904133e-02],\n",
              "        [ 4.64872271e-03, -1.43003464e-02, -2.16424819e-02,\n",
              "          1.41778030e-02, -6.73507527e-03],\n",
              "        [ 4.52283956e-02,  1.16829276e-02,  1.50073282e-02,\n",
              "          4.62499596e-02, -2.39224434e-02]],\n",
              "\n",
              "       [[ 2.34653093e-02,  1.38621666e-02, -7.46928528e-03,\n",
              "         -1.08212121e-02,  4.58593629e-02],\n",
              "        [ 2.63857357e-02, -1.66436657e-02, -3.00678741e-02,\n",
              "         -3.75007465e-03,  3.58812250e-02],\n",
              "        [-3.42672095e-02, -4.95253801e-02,  3.30209732e-03,\n",
              "          5.77586889e-03, -1.03456005e-02],\n",
              "        [-3.26022059e-02, -1.05408579e-03, -3.25742364e-02,\n",
              "          1.10323913e-02, -4.83320244e-02],\n",
              "        [-3.91601399e-03, -3.87636796e-02,  4.75225784e-02,\n",
              "          1.90269239e-02,  2.23482512e-02],\n",
              "        [ 4.64872271e-03, -1.43003464e-02, -2.16424819e-02,\n",
              "          1.41778030e-02, -6.73507527e-03],\n",
              "        [ 4.32636850e-02,  4.71681021e-02, -3.65085974e-02,\n",
              "          1.73537992e-02,  1.87424906e-02],\n",
              "        [-2.15240363e-02,  1.05548985e-02,  2.03086175e-02,\n",
              "         -3.24495807e-02,  4.47308086e-02],\n",
              "        [-8.26781988e-03, -2.95824893e-02,  3.46790217e-02,\n",
              "         -2.00600866e-02, -4.46938872e-02],\n",
              "        [-3.13654430e-02,  3.08876522e-02,  1.28886439e-02,\n",
              "          1.94630288e-02, -2.49049310e-02]],\n",
              "\n",
              "       [[-3.64207402e-02,  4.60023619e-02,  1.82082392e-02,\n",
              "          4.49717753e-02, -1.08600035e-02],\n",
              "        [-3.64207402e-02,  4.60023619e-02,  1.82082392e-02,\n",
              "          4.49717753e-02, -1.08600035e-02],\n",
              "        [-4.08818573e-03, -1.68244466e-02,  1.44119523e-02,\n",
              "         -5.92736155e-03,  2.96750702e-02],\n",
              "        [ 1.12975128e-02,  2.08641998e-02,  8.18806887e-03,\n",
              "         -6.92936033e-03,  3.21063735e-02],\n",
              "        [-3.01676039e-02,  4.27042283e-02, -1.31913796e-02,\n",
              "          3.93025912e-02, -1.28590949e-02],\n",
              "        [-2.15240363e-02,  1.05548985e-02,  2.03086175e-02,\n",
              "         -3.24495807e-02,  4.47308086e-02],\n",
              "        [-1.93747133e-03, -4.54843640e-02,  4.02583927e-03,\n",
              "         -1.12073645e-02, -2.88113952e-05],\n",
              "        [ 4.45734970e-02, -1.62421539e-03,  2.53416039e-02,\n",
              "          4.00533117e-02, -2.35622767e-02],\n",
              "        [-2.43246686e-02, -3.47243063e-02,  3.00275348e-02,\n",
              "          4.20475043e-02, -4.56171110e-03],\n",
              "        [-2.75079608e-02, -2.73610111e-02,  3.54201458e-02,\n",
              "         -2.94891726e-02, -1.44278631e-02]]], dtype=float32)"
            ]
          },
          "metadata": {
            "tags": []
          },
          "execution_count": 129
        }
      ]
    },
    {
      "cell_type": "markdown",
      "metadata": {
        "id": "bk0HrZvCtXZC"
      },
      "source": [
        "Now this makes it easier to visualize that we have 4(size of corp) documents with each consisting of 10(maxlen) words and each word mapped to a\n",
        "5-dimensional vector."
      ]
    }
  ]
}